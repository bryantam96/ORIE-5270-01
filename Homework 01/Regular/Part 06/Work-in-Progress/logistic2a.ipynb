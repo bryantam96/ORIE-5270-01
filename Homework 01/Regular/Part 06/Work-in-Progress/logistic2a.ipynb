{
 "cells": [
  {
   "cell_type": "code",
   "execution_count": 1,
   "metadata": {},
   "outputs": [],
   "source": [
    "import binascii, gzip, struct, sys, os, numpy as np\n",
    "from pyspark import SparkConf, SparkContext"
   ]
  },
  {
   "cell_type": "code",
   "execution_count": 2,
   "metadata": {},
   "outputs": [],
   "source": [
    "trnim = open('train_images.txt', mode='rb').read()\n",
    "trnlb = open('train_labels.txt', mode='rb').read()\n",
    "tstim = open('test_images.txt', mode='rb').read()\n",
    "tstlb = open('test_labels.txt', mode='rb').read()"
   ]
  },
  {
   "cell_type": "code",
   "execution_count": 3,
   "metadata": {},
   "outputs": [
    {
     "name": "stdout",
     "output_type": "stream",
     "text": [
      "47040016 60008 7840016 10008\n"
     ]
    }
   ],
   "source": [
    "print(len(trnim), len(trnlb), len(tstim), len(tstlb))"
   ]
  },
  {
   "cell_type": "code",
   "execution_count": 4,
   "metadata": {},
   "outputs": [],
   "source": [
    "trnx = np.zeros(len(trnim)-16)\n",
    "trny = np.zeros(len(trnlb)-8)\n",
    "tstx = np.zeros(len(tstim)-16)\n",
    "tsty = np.zeros(len(tstlb)-8)"
   ]
  },
  {
   "cell_type": "code",
   "execution_count": 5,
   "metadata": {},
   "outputs": [],
   "source": [
    "n = 60000 # n for inputs"
   ]
  },
  {
   "cell_type": "code",
   "execution_count": 6,
   "metadata": {},
   "outputs": [],
   "source": [
    "for i in range(16, len(trnim)): trnx[i-16] = str(trnim[i])\n",
    "for i in range(8, len(trnlb)): trny[i-8] = str(trnlb[i])\n",
    "for i in range(16, len(tstim)): tstx[i-16] = str(tstim[i])\n",
    "for i in range(8, len(tstlb)): tsty[i-8] = str(tstlb[i])"
   ]
  },
  {
   "cell_type": "code",
   "execution_count": 7,
   "metadata": {},
   "outputs": [],
   "source": [
    "trnx = np.reshape(trnx/255, (60000, 784))[0:n]\n",
    "trny = np.reshape(trny, (60000, 1))[0:n]\n",
    "tstx = np.reshape(tstx/255, (10000, 784))\n",
    "tsty = np.reshape(tsty, (10000, 1))"
   ]
  },
  {
   "cell_type": "code",
   "execution_count": 8,
   "metadata": {},
   "outputs": [],
   "source": [
    "trnt = np.append(np.zeros((n,10)), trnx, axis=1); data = []\n",
    "for j in range(10): \n",
    "    trnt[:,j:j+1] = (trny == j) + 0\n",
    "    data.append(np.append(trnt[trnt[:,j] == 1], trnt[trnt[:,j] != 1][np.random.randint(0, trnt[trnt[:,j] != 1].shape[0], trnt[trnt[:,j] == 1].shape[0])], axis=0))"
   ]
  },
  {
   "cell_type": "code",
   "execution_count": 17,
   "metadata": {
    "scrolled": false
   },
   "outputs": [
    {
     "name": "stdout",
     "output_type": "stream",
     "text": [
      "Training Accuracy: 0.668950\n",
      "Testing Accuracy: 0.675600\n"
     ]
    }
   ],
   "source": [
    "memory = '12g'\n",
    "pyspark_submit_args = ' --driver-memory ' + memory + ' pyspark-shell'\n",
    "os.environ[\"PYSPARK_SUBMIT_ARGS\"] = pyspark_submit_args\n",
    "conf = SparkConf()\n",
    "sc = SparkContext(conf=conf)\n",
    "\n",
    "points = sc.parallelize(trnt)\n",
    "#points = []\n",
    "#for j in range(10): points.append(sc.parallelize(data[j])) \n",
    "iterations = 50; D = 784; C = 10 # C for classes, D for dimensions\n",
    "\n",
    "# Initialize w to a random value\n",
    "w = (np.random.ranf((C,D)) - 0.5)/10\n",
    "\n",
    "# Compute logistic regression gradient for a matrix of data points\n",
    "def gradient(X, Y, w, j):\n",
    "    X = np.reshape(X, (1, D))\n",
    "    return np.ravel((1.0 / (1.0 + np.exp(Y * X.dot(w[j])))) * Y * X.T)\n",
    "    #return np.ravel((X * ((1.0 / (1.0 + np.exp(X.dot(w[j])))) - Y)))\n",
    "    #return np.ravel((1.0 / (1.0 + np.exp(Y - X.dot(w[j])))) * Y * X.T)\n",
    "    #return np.ravel(X.T * np.exp(X.dot(w[j])) - Y * X.T)\n",
    "    \n",
    "def add(x, y):\n",
    "    x += y\n",
    "    return x\n",
    "\n",
    "for i in range(iterations):\n",
    "    #prnt1 = str(i+1)\n",
    "    #prnt2 = str(i+1)\n",
    "    for j in range(C):\n",
    "        #exx = np.divide(np.exp(trnx.dot(w[j])),1+np.exp(trnx.dot(w[j])))\n",
    "        #acc = np.sum(trnt[:,j] == (exx >= 0.5))/trnt.shape[0]\n",
    "        #err = np.sum(np.abs(trnt[:,j] - exx))/trnt.shape[0]\n",
    "        prnt1 += \" | %.4f\" % err\n",
    "        prnt2 += \" | %.4f\" % acc\n",
    "        w[j] -= points.map(lambda m: gradient(m[C:], m[j], w, j)).reduce(add)/(n*10)\n",
    "    #print(prnt1)\n",
    "    #print(prnt2)\n",
    "    \n",
    "exx = np.zeros((n, C))      \n",
    "for j in range(C): exx[:,j] = np.divide(np.exp(trnx.dot(w[j])),1+np.exp(trnx.dot(w[j])))\n",
    "acc = np.sum(trny == np.array([np.argmin(exx, axis=1)]).T)/n\n",
    "print(\"Training Accuracy: %6f\" % acc)\n",
    "\n",
    "exx = np.zeros((10000, C))\n",
    "for j in range(C): exx[:,j] = np.divide(np.exp(tstx.dot(w[j])),1+np.exp(tstx.dot(w[j])))\n",
    "acc = np.sum(tsty == np.array([np.argmin(exx, axis=1)]).T)/tsty.shape[0]\n",
    "print(\"Testing Accuracy: %6f\" % acc)\n",
    "\n",
    "sc.stop()\n"
   ]
  },
  {
   "cell_type": "code",
   "execution_count": 10,
   "metadata": {},
   "outputs": [
    {
     "data": {
      "text/plain": [
       "array([[2.05039202e-12, 7.73912855e-07, 8.01804065e-11, 9.08832703e-12,\n",
       "        3.88362163e-11, 5.73609621e-09, 2.06480276e-09, 1.83361142e-17,\n",
       "        4.42894869e-12, 2.56723177e-13]])"
      ]
     },
     "execution_count": 10,
     "metadata": {},
     "output_type": "execute_result"
    }
   ],
   "source": [
    "(exx[0:1])"
   ]
  },
  {
   "cell_type": "code",
   "execution_count": 11,
   "metadata": {},
   "outputs": [
    {
     "data": {
      "text/plain": [
       "array([[7., 2., 1., 0., 4., 1., 4., 9., 5., 9., 0., 6., 9., 0., 1., 5.,\n",
       "        9., 7., 3., 4.]])"
      ]
     },
     "execution_count": 11,
     "metadata": {},
     "output_type": "execute_result"
    }
   ],
   "source": [
    "tsty[0:20].T"
   ]
  },
  {
   "cell_type": "code",
   "execution_count": 16,
   "metadata": {},
   "outputs": [],
   "source": [
    "sc.stop()"
   ]
  },
  {
   "cell_type": "code",
   "execution_count": 15,
   "metadata": {},
   "outputs": [
    {
     "name": "stdout",
     "output_type": "stream",
     "text": [
      "Training Accuracy: 0.654967\n"
     ]
    }
   ],
   "source": [
    "exx = np.zeros((n, C))      \n",
    "for j in range(C): exx[:,j] = np.divide(np.exp(trnx.dot(w[j])),1+np.exp(trnx.dot(w[j])))\n",
    "acc = np.sum(trny == np.array([np.argmin(exx, axis=1)]).T)/n\n",
    "print(\"Training Accuracy: %6f\" % acc)"
   ]
  },
  {
   "cell_type": "code",
   "execution_count": 16,
   "metadata": {},
   "outputs": [
    {
     "name": "stdout",
     "output_type": "stream",
     "text": [
      "Testing Accuracy: 0.666200\n"
     ]
    }
   ],
   "source": [
    "exx = np.zeros((10000, C))\n",
    "for j in range(C): exx[:,j] = np.divide(np.exp(tstx.dot(w[j])),1+np.exp(tstx.dot(w[j])))\n",
    "acc = np.sum(tsty == np.array([np.argmin(exx, axis=1)]).T)/tsty.shape[0]\n",
    "print(\"Testing Accuracy: %6f\" % acc)"
   ]
  },
  {
   "cell_type": "code",
   "execution_count": 22,
   "metadata": {},
   "outputs": [
    {
     "data": {
      "text/plain": [
       "array([2.66182513e-03, 6.10921807e-04, 5.98891259e-02, 1.41419325e-07,\n",
       "       8.29737359e-05, 5.42040857e-06, 5.53224143e-01, 9.94254330e-05,\n",
       "       1.03674874e-05, 8.06145248e-01])"
      ]
     },
     "execution_count": 22,
     "metadata": {},
     "output_type": "execute_result"
    }
   ],
   "source": [
    "exx[0]"
   ]
  },
  {
   "cell_type": "code",
   "execution_count": 23,
   "metadata": {},
   "outputs": [
    {
     "data": {
      "text/plain": [
       "array([5.])"
      ]
     },
     "execution_count": 23,
     "metadata": {},
     "output_type": "execute_result"
    }
   ],
   "source": [
    "trny[0]"
   ]
  },
  {
   "cell_type": "code",
   "execution_count": 18,
   "metadata": {},
   "outputs": [
    {
     "data": {
      "text/plain": [
       "array([[1., 1., 1., ..., 1., 1., 1.],\n",
       "       [1., 1., 1., ..., 1., 1., 1.],\n",
       "       [1., 1., 1., ..., 1., 1., 1.],\n",
       "       ...,\n",
       "       [1., 1., 1., ..., 1., 1., 1.],\n",
       "       [1., 1., 1., ..., 1., 1., 1.],\n",
       "       [1., 1., 1., ..., 1., 1., 1.]])"
      ]
     },
     "execution_count": 18,
     "metadata": {},
     "output_type": "execute_result"
    }
   ],
   "source": [
    "exx"
   ]
  },
  {
   "cell_type": "code",
   "execution_count": null,
   "metadata": {},
   "outputs": [],
   "source": []
  }
 ],
 "metadata": {
  "kernelspec": {
   "display_name": "Python 3",
   "language": "python",
   "name": "python3"
  },
  "language_info": {
   "codemirror_mode": {
    "name": "ipython",
    "version": 3
   },
   "file_extension": ".py",
   "mimetype": "text/x-python",
   "name": "python",
   "nbconvert_exporter": "python",
   "pygments_lexer": "ipython3",
   "version": "3.6.2"
  }
 },
 "nbformat": 4,
 "nbformat_minor": 2
}
